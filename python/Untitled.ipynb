{
 "cells": [
  {
   "cell_type": "code",
   "execution_count": 1,
   "metadata": {},
   "outputs": [],
   "source": [
    "import numpy as np\n",
    "from gtsam import *\t\n",
    "from gpmp2 import *\n",
    "from gpmp_utils.generate2Ddataset import generate2Ddataset\n",
    "from gpmp_utils.signedDistanceField2D import signedDistanceField2D\n",
    "from gpmp_utils.generateArm import generateArm\n"
   ]
  },
  {
   "cell_type": "code",
   "execution_count": 2,
   "metadata": {},
   "outputs": [],
   "source": [
    "dataset = generate2Ddataset('OneObstacleDataset')"
   ]
  },
  {
   "cell_type": "code",
   "execution_count": 3,
   "metadata": {},
   "outputs": [],
   "source": [
    "rows = dataset.rows\n",
    "cols = dataset.cols\n",
    "cell_size = dataset.cell_size\n",
    "origin_point2 = Point2(dataset.origin_x, dataset.origin_y)"
   ]
  },
  {
   "cell_type": "code",
   "execution_count": 4,
   "metadata": {},
   "outputs": [],
   "source": [
    "# signed distance field\n",
    "field = signedDistanceField2D(dataset.map, cell_size)\n",
    "sdf = PlanarSDF(origin_point2, cell_size, field)\n"
   ]
  },
  {
   "cell_type": "code",
   "execution_count": 5,
   "metadata": {},
   "outputs": [],
   "source": [
    "# settings\n",
    "total_time_sec = 5.0\n",
    "total_time_step = 10\n",
    "total_check_step = 50\n",
    "delta_t = total_time_sec / total_time_step\n",
    "check_inter = total_check_step / total_time_step - 1\n",
    "\n",
    "# use GP interpolation\n",
    "use_GP_inter = True\n"
   ]
  },
  {
   "cell_type": "code",
   "execution_count": 6,
   "metadata": {},
   "outputs": [],
   "source": [
    "# arm model\n",
    "arm = generateArm('SimpleTwoLinksArm')"
   ]
  },
  {
   "cell_type": "code",
   "execution_count": 7,
   "metadata": {},
   "outputs": [],
   "source": [
    "# GP\n",
    "Qc = np.identity(2)\n",
    "Qc_model = noiseModel_Gaussian.Covariance(Qc)\n",
    "\n",
    "# Obstacle avoid settings\n",
    "cost_sigma = 0.1\n",
    "epsilon_dist = 0.1"
   ]
  },
  {
   "cell_type": "code",
   "execution_count": 8,
   "metadata": {},
   "outputs": [],
   "source": [
    "# prior to start/goal\n",
    "pose_fix = noiseModel_Isotropic.Sigma(2, 0.0001)\n",
    "vel_fix = noiseModel_Isotropic.Sigma(2, 0.0001)"
   ]
  },
  {
   "cell_type": "code",
   "execution_count": 12,
   "metadata": {},
   "outputs": [],
   "source": [
    "# start and end conf\n",
    "start_conf = np.asarray([0, 0])\n",
    "start_vel = np.asarray([0, 0])\n",
    "end_conf = np.asarray([np.pi/2, 0])\n",
    "end_vel = np.asarray([0, 0])\n",
    "avg_vel = (end_conf / total_time_step) / delta_t"
   ]
  },
  {
   "cell_type": "code",
   "execution_count": 13,
   "metadata": {},
   "outputs": [],
   "source": [
    "#%% init optimization\n",
    "graph = NonlinearFactorGraph()\n",
    "init_values = Values()"
   ]
  },
  {
   "cell_type": "code",
   "execution_count": 14,
   "metadata": {},
   "outputs": [],
   "source": [
    "for i in range(0, total_time_step+1):\n",
    "    key_pos = symbol(ord('x'), i) #TODO: check this mustafa \n",
    "    key_vel = symbol(ord('v'), i)\n",
    "    \n",
    "    #% initialize as straight line in conf space\n",
    "    pose = start_conf * (total_time_step-i)/total_time_step + end_conf * i/total_time_step\n",
    "    vel = avg_vel\n",
    "    init_values.insert(key_pos, pose)\n",
    "    init_values.insert(key_vel, vel)\n",
    "    \n",
    "    #% start/end priors\n",
    "    if i==0:\n",
    "        graph.add(PriorFactorVector(key_pos, start_conf, pose_fix))\n",
    "        graph.add(PriorFactorVector(key_vel, start_vel, vel_fix))\n",
    "    elif i==total_time_step:\n",
    "        graph.add(PriorFactorVector(key_pos, end_conf, pose_fix))\n",
    "        graph.add(PriorFactorVector(key_vel, end_vel, vel_fix))\n",
    "    \n",
    "    #% GP priors and cost factor\n",
    "    if i > 0:\n",
    "        key_pos1 = symbol(ord('x'), i-1)\n",
    "        key_pos2 = symbol(ord('x'), i)\n",
    "        key_vel1 = symbol(ord('v'), i-1)\n",
    "        key_vel2 = symbol(ord('v'), i)\n",
    "\n",
    "        graph.add(GaussianProcessPriorLinear(key_pos1, key_vel1,\n",
    "            key_pos2, key_vel2, delta_t, Qc_model))\n",
    "        \n",
    "        #% cost factor\n",
    "        graph.add(ObstaclePlanarSDFFactorArm(key_pos, arm, \n",
    "                                sdf, cost_sigma, epsilon_dist))\n",
    "        \n",
    "        #% GP cost factor\n",
    "        if use_GP_inter and check_inter > 0:\n",
    "            for j in range(1, check_inter+1):\n",
    "                tau = j * (total_time_sec / total_check_step)\n",
    "                graph.add(ObstaclePlanarSDFFactorGPArm(\n",
    "                    key_pos1, key_vel1, key_pos2, key_vel2,\n",
    "                    arm, sdf, cost_sigma, epsilon_dist,\n",
    "                    Qc_model, delta_t, tau))"
   ]
  },
  {
   "cell_type": "code",
   "execution_count": 15,
   "metadata": {},
   "outputs": [],
   "source": [
    "#%% optimize!\n",
    "use_trustregion_opt = False\n",
    "\n",
    "if use_trustregion_opt:\n",
    "    parameters = DoglegParams()\n",
    "    parameters.setVerbosity('ERROR')\n",
    "    optimizer = DoglegOptimizer(graph, init_values, parameters)\n",
    "else:\n",
    "    parameters = GaussNewtonParams()\n",
    "    parameters.setVerbosity('ERROR')\n",
    "    optimizer = GaussNewtonOptimizer(graph, init_values, parameters)"
   ]
  },
  {
   "cell_type": "code",
   "execution_count": 16,
   "metadata": {},
   "outputs": [],
   "source": [
    "optimizer.optimize()\n",
    "result = optimizer.values()"
   ]
  },
  {
   "cell_type": "code",
   "execution_count": 17,
   "metadata": {},
   "outputs": [
    {
     "name": "stdout",
     "output_type": "stream",
     "text": [
      "Values with 22 values:\n",
      "Value v0: (N5Eigen6MatrixIdLin1ELi1ELi0ELin1ELi1EEE) [\n",
      " \t0;\n",
      "    \t0\n",
      "  ]\n",
      "\n",
      "Value v1: (N5Eigen6MatrixIdLin1ELi1ELi0ELin1ELi1EEE) [\n",
      " \t0.314159;\n",
      "    \t       0\n",
      "  ]\n",
      "\n",
      "Value v2: (N5Eigen6MatrixIdLin1ELi1ELi0ELin1ELi1EEE) [\n",
      " \t0.314159;\n",
      "    \t       0\n",
      "  ]\n",
      "\n",
      "Value v3: (N5Eigen6MatrixIdLin1ELi1ELi0ELin1ELi1EEE) [\n",
      " \t0.314159;\n",
      "    \t       0\n",
      "  ]\n",
      "\n",
      "Value v4: (N5Eigen6MatrixIdLin1ELi1ELi0ELin1ELi1EEE) [\n",
      " \t0.314159;\n",
      "    \t       0\n",
      "  ]\n",
      "\n",
      "Value v5: (N5Eigen6MatrixIdLin1ELi1ELi0ELin1ELi1EEE) [\n",
      " \t0.314159;\n",
      "    \t       0\n",
      "  ]\n",
      "\n",
      "Value v6: (N5Eigen6MatrixIdLin1ELi1ELi0ELin1ELi1EEE) [\n",
      " \t0.314159;\n",
      "    \t       0\n",
      "  ]\n",
      "\n",
      "Value v7: (N5Eigen6MatrixIdLin1ELi1ELi0ELin1ELi1EEE) [\n",
      " \t0.314159;\n",
      "    \t       0\n",
      "  ]\n",
      "\n",
      "Value v8: (N5Eigen6MatrixIdLin1ELi1ELi0ELin1ELi1EEE) [\n",
      " \t0.314159;\n",
      "    \t       0\n",
      "  ]\n",
      "\n",
      "Value v9: (N5Eigen6MatrixIdLin1ELi1ELi0ELin1ELi1EEE) [\n",
      " \t0.314159;\n",
      "    \t       0\n",
      "  ]\n",
      "\n",
      "Value v10: (N5Eigen6MatrixIdLin1ELi1ELi0ELin1ELi1EEE) [\n",
      " \t0;\n",
      "    \t0\n",
      "  ]\n",
      "\n",
      "Value x0: (N5Eigen6MatrixIdLin1ELi1ELi0ELin1ELi1EEE) [\n",
      " \t0;\n",
      "    \t0\n",
      "  ]\n",
      "\n",
      "Value x1: (N5Eigen6MatrixIdLin1ELi1ELi0ELin1ELi1EEE) [\n",
      " \t0.15708;\n",
      "    \t      0\n",
      "  ]\n",
      "\n",
      "Value x2: (N5Eigen6MatrixIdLin1ELi1ELi0ELin1ELi1EEE) [\n",
      " \t0.314159;\n",
      "    \t       0\n",
      "  ]\n",
      "\n",
      "Value x3: (N5Eigen6MatrixIdLin1ELi1ELi0ELin1ELi1EEE) [\n",
      " \t0.471239;\n",
      "    \t       0\n",
      "  ]\n",
      "\n",
      "Value x4: (N5Eigen6MatrixIdLin1ELi1ELi0ELin1ELi1EEE) [\n",
      " \t0.628319;\n",
      "    \t       0\n",
      "  ]\n",
      "\n",
      "Value x5: (N5Eigen6MatrixIdLin1ELi1ELi0ELin1ELi1EEE) [\n",
      " \t0.785398;\n",
      "    \t       0\n",
      "  ]\n",
      "\n",
      "Value x6: (N5Eigen6MatrixIdLin1ELi1ELi0ELin1ELi1EEE) [\n",
      " \t0.942478;\n",
      "    \t       0\n",
      "  ]\n",
      "\n",
      "Value x7: (N5Eigen6MatrixIdLin1ELi1ELi0ELin1ELi1EEE) [\n",
      " \t1.09956;\n",
      "    \t      0\n",
      "  ]\n",
      "\n",
      "Value x8: (N5Eigen6MatrixIdLin1ELi1ELi0ELin1ELi1EEE) [\n",
      " \t1.25664;\n",
      "    \t      0\n",
      "  ]\n",
      "\n",
      "Value x9: (N5Eigen6MatrixIdLin1ELi1ELi0ELin1ELi1EEE) [\n",
      " \t1.41372;\n",
      "    \t      0\n",
      "  ]\n",
      "\n",
      "Value x10: (N5Eigen6MatrixIdLin1ELi1ELi0ELin1ELi1EEE) [\n",
      " \t1.5708;\n",
      "    \t     0\n",
      "  ]\n",
      "\n",
      "\n"
     ]
    }
   ],
   "source": [
    "print(result)"
   ]
  },
  {
   "cell_type": "code",
   "execution_count": 20,
   "metadata": {},
   "outputs": [],
   "source": [
    "conf = result.atVector(symbol(ord('x'), 10))"
   ]
  },
  {
   "cell_type": "code",
   "execution_count": 21,
   "metadata": {},
   "outputs": [
    {
     "name": "stdout",
     "output_type": "stream",
     "text": [
      "[1.57079633 0.        ]\n"
     ]
    }
   ],
   "source": [
    "print(conf)"
   ]
  },
  {
   "cell_type": "code",
   "execution_count": null,
   "metadata": {},
   "outputs": [],
   "source": []
  }
 ],
 "metadata": {
  "kernelspec": {
   "display_name": "Python 2",
   "language": "python",
   "name": "python2"
  },
  "language_info": {
   "codemirror_mode": {
    "name": "ipython",
    "version": 2
   },
   "file_extension": ".py",
   "mimetype": "text/x-python",
   "name": "python",
   "nbconvert_exporter": "python",
   "pygments_lexer": "ipython2",
   "version": "2.7.12"
  }
 },
 "nbformat": 4,
 "nbformat_minor": 2
}
